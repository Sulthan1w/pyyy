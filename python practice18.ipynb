{
 "cells": [
  {
   "cell_type": "code",
   "execution_count": 6,
   "metadata": {},
   "outputs": [
    {
     "name": "stdout",
     "output_type": "stream",
     "text": [
      "10\n",
      "25\n"
     ]
    }
   ],
   "source": [
    "#20\n",
    "n=int(input())\n",
    "sum1=0\n",
    "for i in range(0,n+1):\n",
    "    if(i%2!=0):\n",
    "        sum1=sum1+i\n",
    "        \n",
    "print(sum1)"
   ]
  },
  {
   "cell_type": "code",
   "execution_count": 8,
   "metadata": {},
   "outputs": [
    {
     "name": "stdout",
     "output_type": "stream",
     "text": [
      "Apple\n",
      "Apricot\n",
      "Avocado\n",
      "Acerola\n"
     ]
    }
   ],
   "source": [
    "#21\n",
    "fruits=[\"Apple\",\"Banana\",\"Pear\",\"Apricot\",\"Orange\",\"Avocado\",\"Breadfruit\",\"Acerola\"]\n",
    "for i in fruits:\n",
    "    if i[0]=='A':\n",
    "        print(i)"
   ]
  },
  {
   "cell_type": "code",
   "execution_count": 15,
   "metadata": {},
   "outputs": [
    {
     "name": "stdout",
     "output_type": "stream",
     "text": [
      "Finland\n",
      "Ireland\n"
     ]
    }
   ],
   "source": [
    "#22\n",
    "Countries=[\"Finland\",\"Germany\",\"Sweden\",\"Ireland\",\"Turkey\"]\n",
    "for i in Countries:\n",
    "    if i[-1]=='d' and i[-2]=='n' and i[-3]=='a':\n",
    "        print(i)"
   ]
  },
  {
   "cell_type": "code",
   "execution_count": 17,
   "metadata": {},
   "outputs": [
    {
     "name": "stdout",
     "output_type": "stream",
     "text": [
      "100\n"
     ]
    }
   ],
   "source": [
    "#23\n",
    "l1=[25,12,33,12,8,10]\n",
    "print(sum(l1))"
   ]
  },
  {
   "cell_type": "code",
   "execution_count": 24,
   "metadata": {},
   "outputs": [
    {
     "name": "stdout",
     "output_type": "stream",
     "text": [
      "[1, 2, 4, 8, 13, 18]\n"
     ]
    }
   ],
   "source": [
    "#24\n",
    "l1=[1,2,5,4,8,10,13,15,18,30]\n",
    "l2=[]\n",
    "for i in l1:\n",
    "    if i%5!=0:\n",
    "        l2.append(i)\n",
    "print(l2)"
   ]
  },
  {
   "cell_type": "code",
   "execution_count": 25,
   "metadata": {},
   "outputs": [
    {
     "name": "stdout",
     "output_type": "stream",
     "text": [
      "[1, 4, 25, 16, 64, 100, 144, 225, 324, 900]\n"
     ]
    }
   ],
   "source": [
    "#25\n",
    "l1=[1,2,5,4,8,10,12,15,18,30]\n",
    "l2=[]\n",
    "for i in l1:\n",
    "    l2.append(i*i)\n",
    "print(l2)\n",
    "    "
   ]
  },
  {
   "cell_type": "code",
   "execution_count": 26,
   "metadata": {},
   "outputs": [
    {
     "name": "stdout",
     "output_type": "stream",
     "text": [
      "65\n",
      "149.0\n"
     ]
    }
   ],
   "source": [
    "#26\n",
    "a1=int(input())\n",
    "f1=(a1*1.8)+32\n",
    "print(f1)"
   ]
  },
  {
   "cell_type": "code",
   "execution_count": 27,
   "metadata": {},
   "outputs": [
    {
     "name": "stdout",
     "output_type": "stream",
     "text": [
      "4\n",
      "30\n"
     ]
    }
   ],
   "source": [
    "#27\n",
    "n=int(input())\n",
    "sum1=0\n",
    "for i in range(0,n+1):\n",
    "    sum1=sum1+(i*i)\n",
    "    \n",
    "print(sum1)"
   ]
  },
  {
   "cell_type": "code",
   "execution_count": 28,
   "metadata": {},
   "outputs": [
    {
     "name": "stdout",
     "output_type": "stream",
     "text": [
      "5\n",
      "5 * 1 = 5\n",
      "5 * 2 = 10\n",
      "5 * 3 = 15\n",
      "5 * 4 = 20\n",
      "5 * 5 = 25\n",
      "5 * 6 = 30\n",
      "5 * 7 = 35\n",
      "5 * 8 = 40\n",
      "5 * 9 = 45\n",
      "5 * 10 = 50\n"
     ]
    }
   ],
   "source": [
    "#28\n",
    "n=int(input())\n",
    "for i in range(1,11):\n",
    "    print(n,'*',i,'=',n*i)"
   ]
  },
  {
   "cell_type": "code",
   "execution_count": 30,
   "metadata": {},
   "outputs": [
    {
     "name": "stdout",
     "output_type": "stream",
     "text": [
      "6\n",
      "1\n",
      "2\n",
      "9\n",
      "28\n",
      "65\n",
      "126\n",
      "217\n"
     ]
    }
   ],
   "source": [
    "#34\n",
    "n=int(input())\n",
    "sum1=0\n",
    "for i in range(0,n+1):\n",
    "    sum1=sum1+i*i*i+1\n",
    "    print(sum1)\n",
    "    sum1=0\n",
    "    "
   ]
  },
  {
   "cell_type": "code",
   "execution_count": 32,
   "metadata": {},
   "outputs": [
    {
     "name": "stdout",
     "output_type": "stream",
     "text": [
      "16\n",
      "132\n",
      "156\n",
      "182\n",
      "210\n",
      "240\n"
     ]
    }
   ],
   "source": [
    "#35\n",
    "n=int(input())\n",
    "sum1=0\n",
    "for i in range(11,n):\n",
    "    sum1=(i)*(i+1)\n",
    "    print(sum1)\n",
    "    sum1=0"
   ]
  },
  {
   "cell_type": "code",
   "execution_count": 40,
   "metadata": {},
   "outputs": [
    {
     "name": "stdout",
     "output_type": "stream",
     "text": [
      "5\n",
      "1 \n",
      "\n",
      "1 2 \n",
      "\n",
      "1 2 3 \n",
      "\n",
      "1 2 3 4 \n",
      "\n",
      "1 2 3 4 5 \n",
      "\n"
     ]
    }
   ],
   "source": [
    "#33\n",
    "n=int(input())\n",
    "for i in range(1,n+1):\n",
    "    for j in range(1,i+1):\n",
    "        print(j,end=\" \")\n",
    "    print(\"\\n\")"
   ]
  },
  {
   "cell_type": "code",
   "execution_count": 43,
   "metadata": {},
   "outputs": [
    {
     "name": "stdout",
     "output_type": "stream",
     "text": [
      "20\n",
      "2\n",
      "3\n",
      "5\n",
      "7\n",
      "11\n",
      "13\n",
      "17\n",
      "19\n"
     ]
    }
   ],
   "source": [
    "#29\n",
    "n=int(input())\n",
    "for i in range(2,n+1):\n",
    "    for j in range(2,i):\n",
    "        if(i%j==0):\n",
    "            break\n",
    "    else:\n",
    "        print(i)"
   ]
  },
  {
   "cell_type": "code",
   "execution_count": 48,
   "metadata": {},
   "outputs": [
    {
     "name": "stdout",
     "output_type": "stream",
     "text": [
      "200\n",
      "0\n",
      "1\n",
      "2\n",
      "3\n",
      "4\n",
      "5\n",
      "6\n",
      "7\n",
      "8\n",
      "9\n",
      "11\n",
      "22\n",
      "33\n",
      "44\n",
      "55\n",
      "66\n",
      "77\n",
      "88\n",
      "99\n",
      "101\n",
      "111\n",
      "121\n",
      "131\n",
      "141\n",
      "151\n",
      "161\n",
      "171\n",
      "181\n",
      "191\n"
     ]
    }
   ],
   "source": [
    "#31\n",
    "n=int(input())\n",
    "for i in range(0,n+1):\n",
    "    n1=i\n",
    "    sum1=0\n",
    "    while(n1>0):\n",
    "        riv=n1%10\n",
    "        sum1=sum1*10+riv\n",
    "        n1=n1//10\n",
    "    if(sum1==i):\n",
    "        print(i)"
   ]
  },
  {
   "cell_type": "code",
   "execution_count": 52,
   "metadata": {},
   "outputs": [
    {
     "name": "stdout",
     "output_type": "stream",
     "text": [
      "200\n",
      "0\n",
      "1\n",
      "153\n"
     ]
    }
   ],
   "source": [
    "#30\n",
    "n=int(input())\n",
    "for i in range(0,n+1):\n",
    "    n1=i\n",
    "    sum1=0\n",
    "    while(n1>0):\n",
    "        riv=n1%10\n",
    "        sum1=sum1+riv**3\n",
    "        n1=n1//10\n",
    "    if(sum1==i):\n",
    "        print(i)"
   ]
  },
  {
   "cell_type": "code",
   "execution_count": 83,
   "metadata": {},
   "outputs": [],
   "source": [
    "#36\n",
    "def fun(n):\n",
    "    i=1\n",
    "    x=1\n",
    "    while(i<=n):\n",
    "        print(x,end=\" \")\n",
    "        x=(x**2)+1\n",
    "        i=i+1\n",
    "        if(i>n):\n",
    "            break\n",
    "        print(x,end=\" \")\n",
    "        x=(x**2)-1\n",
    "        i=i+1\n"
   ]
  },
  {
   "cell_type": "code",
   "execution_count": 88,
   "metadata": {},
   "outputs": [
    {
     "name": "stdout",
     "output_type": "stream",
     "text": [
      "1 2 3 10 99 9802 "
     ]
    }
   ],
   "source": [
    "fun(6)"
   ]
  },
  {
   "cell_type": "code",
   "execution_count": 89,
   "metadata": {},
   "outputs": [],
   "source": [
    "#19\n",
    "vowels='aeiou'\n",
    "def fun(s1):\n",
    "    for i in s1:\n",
    "        if i in vowels:\n",
    "            i=i.upper()\n",
    "            print(i,end=\" \")\n",
    "            \n",
    "        else:\n",
    "            i=i.lower()\n",
    "            print(i,end=\" \")\n",
    "        "
   ]
  },
  {
   "cell_type": "code",
   "execution_count": 90,
   "metadata": {},
   "outputs": [
    {
     "name": "stdout",
     "output_type": "stream",
     "text": [
      "w E l c O m E   t O   p y t h O n "
     ]
    }
   ],
   "source": [
    "fun(\"Welcome to Python\")"
   ]
  },
  {
   "cell_type": "code",
   "execution_count": 91,
   "metadata": {},
   "outputs": [
    {
     "name": "stdout",
     "output_type": "stream",
     "text": [
      "p r O g r A m m I n g   l A b O r A t O r y "
     ]
    }
   ],
   "source": [
    "fun(\"Programming Laboratory\")"
   ]
  },
  {
   "cell_type": "code",
   "execution_count": 104,
   "metadata": {},
   "outputs": [
    {
     "name": "stdout",
     "output_type": "stream",
     "text": [
      "Disarium numbers between 1 and 100 are\n",
      "1\n",
      "2\n",
      "3\n",
      "4\n",
      "5\n",
      "6\n",
      "7\n",
      "8\n",
      "9\n",
      "89\n"
     ]
    }
   ],
   "source": [
    "#32\n",
    "def Length(n):    \n",
    "    length = 0;    \n",
    "    while(n != 0):                    # calculating the length of the number\n",
    "        length = length + 1;    \n",
    "        n = n//10;    \n",
    "    return length;    \n",
    "     \n",
    "#sumDigit()  \n",
    "def sumdigit(num):    \n",
    "    rem = sum = 0;    \n",
    "    len = Length(num);     # checking the number is disarium or not\n",
    "        \n",
    "    while(num > 0):    \n",
    "        rem = num%10;   \n",
    "        sum = sum + (rem**len);    \n",
    "        num = num//10;    \n",
    "        len = len - 1;    \n",
    "    return sum;    \n",
    "      \n",
    "result = 0;    \n",
    "     \n",
    "\n",
    "print(\"Disarium numbers between 1 and 100 are\");    \n",
    "for i in range(1, 101):           # printing disarium numbers\n",
    "    result = sumdigit(i);    \n",
    "        \n",
    "    if(result == i):    \n",
    "        print(i),   "
   ]
  },
  {
   "cell_type": "code",
   "execution_count": null,
   "metadata": {},
   "outputs": [],
   "source": []
  }
 ],
 "metadata": {
  "kernelspec": {
   "display_name": "Python 3",
   "language": "python",
   "name": "python3"
  },
  "language_info": {
   "codemirror_mode": {
    "name": "ipython",
    "version": 3
   },
   "file_extension": ".py",
   "mimetype": "text/x-python",
   "name": "python",
   "nbconvert_exporter": "python",
   "pygments_lexer": "ipython3",
   "version": "3.8.2"
  }
 },
 "nbformat": 4,
 "nbformat_minor": 4
}
